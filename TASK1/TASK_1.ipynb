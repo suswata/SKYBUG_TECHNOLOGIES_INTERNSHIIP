{
 "cells": [
  {
   "cell_type": "markdown",
   "metadata": {},
   "source": [
    "## **SKYBUG INTERNSHIP**\n",
    "\n",
    "## **AI INTERN**\n",
    "\n",
    "## **TASK - 1**\n",
    "\n",
    "## **Done By : A S V Dhanush**\n",
    "\n",
    "\n",
    "### Build a simple chatbot that responds to user inputs based on predefined rules. Use if-else statements or pattern matching techniques to identify user queries and provide appropriate responses. This will give you a basic understanding of natural language processing and conversation flow."
   ]
  },
  {
   "cell_type": "markdown",
   "metadata": {},
   "source": [
    "*Installing Libraries*"
   ]
  },
  {
   "cell_type": "code",
   "execution_count": 1,
   "metadata": {},
   "outputs": [],
   "source": [
    "# %pip install langchain\n",
    "# %pip install openai"
   ]
  },
  {
   "cell_type": "code",
   "execution_count": 2,
   "metadata": {},
   "outputs": [],
   "source": [
    "# %pip install ipywidgets"
   ]
  },
  {
   "cell_type": "markdown",
   "metadata": {},
   "source": [
    "### **BASE: Creating A Simple Chatbot Using Pre-Defined Rules (if-else)**"
   ]
  },
  {
   "cell_type": "code",
   "execution_count": 9,
   "metadata": {},
   "outputs": [
    {
     "data": {
      "application/vnd.jupyter.widget-view+json": {
       "model_id": "ef42c2a559f74aba8fbd2afe0dc8f4e0",
       "version_major": 2,
       "version_minor": 0
      },
      "text/plain": [
       "HTML(value='', placeholder='Chatbot response will appear here...')"
      ]
     },
     "metadata": {},
     "output_type": "display_data"
    },
    {
     "data": {
      "application/vnd.jupyter.widget-view+json": {
       "model_id": "30caa795dfb740a1b1f8b75b98883775",
       "version_major": 2,
       "version_minor": 0
      },
      "text/plain": [
       "Text(value='', layout=Layout(width='auto'), placeholder='Enter your message')"
      ]
     },
     "metadata": {},
     "output_type": "display_data"
    }
   ],
   "source": [
    "import re\n",
    "import ipywidgets as widgets\n",
    "from IPython.display import display\n",
    "from IPython.display import clear_output\n",
    "\n",
    "# Predefined responses\n",
    "responses = {\n",
    "    r'\\bhello\\b': \"Hello! How can I assist you?\",\n",
    "    r'\\bhi\\b': \"Hi, How can I help you today?\",\n",
    "    r'\\bbye\\b': \"Goodbye! Have a nice day.\",\n",
    "    r'\\bhow are you\\b': \"I'm a bot, I don't have feelings, but I'm functioning as expected!\",\n",
    "    r'\\bwhat\\'s your name\\b': \"I'm a bot, I don't have a name.\",\n",
    "    r'\\bwhats your age\\b': \"I am today years old!\",\n",
    "    r'\\bwho \\bmade you?\\b': \"I was programmed and made by Dhanush From Skybug Technologies\",\n",
    "    r'\\btell me a joke\\b': \"Why don't scientists trust atoms? Because they make up everything!\",\n",
    "    r'\\bgive me an animals name\\b': \"For today, the animal is : cat\",\n",
    "    r'\\bthanks\\b': \"Have a nice day!\",\n",
    "    r'\\bgive food preference?\\b': \"You can have pizza today!!\"\n",
    "    \n",
    "}\n",
    "\n",
    "def respond_to_input(user_input):\n",
    "    # Convert user input to lower case\n",
    "    user_input = user_input.lower()\n",
    "    \n",
    "    #this is if-else but without unrolling\n",
    "    for pattern, response in responses.items():\n",
    "        if re.search(pattern, user_input):\n",
    "            return response\n",
    "    return \"Sorry, I didn't understand that.\"\n",
    "\n",
    "input_text = widgets.Text(\n",
    "    value='',\n",
    "    placeholder='Enter your message',\n",
    "    description='',\n",
    "    layout=widgets.Layout(width='auto')\n",
    ")\n",
    "\n",
    "output_text = widgets.HTML(\n",
    "    value='',\n",
    "    placeholder='Chatbot response will appear here...',\n",
    ")\n",
    "\n",
    "def handle_submit(sender):\n",
    "    user_input = input_text.value\n",
    "    response = respond_to_input(user_input)\n",
    "    output_text.value += f'<p style=\"margin: 10px; padding: 10px; border-radius: 5px; background-color: black; color: white;\"><b>User:</b> {user_input}</p>'\n",
    "    output_text.value += f'<p style=\"margin: 10px; padding: 10px; border-radius: 5px; background-color: black; color: white;\"><b>Chatbot:</b> {response}</p>'\n",
    "    input_text.value = ''\n",
    "\n",
    "input_text.on_submit(handle_submit)\n",
    "\n",
    "display(output_text)\n",
    "display(input_text)"
   ]
  },
  {
   "cell_type": "markdown",
   "metadata": {},
   "source": [
    "##### Since we are building a simple rule based chatbot, using pattern matching techniques like regular expressions or token based matching can be a effective solution. They allow you to define specific patterns or keywords to look into users input and respond accordingly"
   ]
  },
  {
   "cell_type": "markdown",
   "metadata": {},
   "source": [
    "### **ADVANCED: The more sophisticated approach is to use of LLM**"
   ]
  },
  {
   "cell_type": "markdown",
   "metadata": {},
   "source": [
    "We cannot manually write if-else satements for wide number of questions and sentences.\n",
    "\n",
    "With the help of Langchain And OpenAI GPT-4 Turbo, We can store and create conversations between LLM and user"
   ]
  },
  {
   "cell_type": "code",
   "execution_count": 4,
   "metadata": {},
   "outputs": [],
   "source": [
    "from langchain.chat_models import ChatOpenAI\n",
    "from langchain.chains import ConversationChain\n",
    "from langchain.memory import ConversationBufferMemory\n",
    "import os\n",
    "import dotenv"
   ]
  },
  {
   "cell_type": "code",
   "execution_count": 5,
   "metadata": {},
   "outputs": [],
   "source": [
    "#Taking the API KEY from local machine\n",
    "dotenv.load_dotenv()\n",
    "API_KEY = os.getenv(\"API_KEY\")"
   ]
  },
  {
   "cell_type": "markdown",
   "metadata": {},
   "source": [
    "#### **Creating A Chat variable For LLM Call**"
   ]
  },
  {
   "cell_type": "code",
   "execution_count": 6,
   "metadata": {},
   "outputs": [],
   "source": [
    "llm_model = \"gpt-3.5-turbo\" \n",
    "\n",
    "gpt_call = ChatOpenAI(\n",
    "    api_key=API_KEY,\n",
    "    temperature= 0.3,  #Temperature, set it to  high for more different outputs\n",
    "    )\n"
   ]
  },
  {
   "cell_type": "markdown",
   "metadata": {},
   "source": [
    "#### **Using a buffer memory to store user and chatbot messages**"
   ]
  },
  {
   "cell_type": "code",
   "execution_count": 7,
   "metadata": {},
   "outputs": [],
   "source": [
    "memory = ConversationBufferMemory()\n",
    "conversation = ConversationChain(\n",
    "    llm=gpt_call, \n",
    "    memory = memory,\n",
    "    verbose=False     #If you want to print the verbose simply set it to 'True'\n",
    ")"
   ]
  },
  {
   "cell_type": "markdown",
   "metadata": {},
   "source": [
    "#### **Creating A real time conversational chat bot using GPT And Langchain!**"
   ]
  },
  {
   "cell_type": "code",
   "execution_count": 10,
   "metadata": {},
   "outputs": [
    {
     "data": {
      "application/vnd.jupyter.widget-view+json": {
       "model_id": "c6550b5000ea459ea8c88d7ef6bfd3d5",
       "version_major": 2,
       "version_minor": 0
      },
      "text/plain": [
       "HTML(value='', placeholder='Waiting For AI to respond...')"
      ]
     },
     "metadata": {},
     "output_type": "display_data"
    },
    {
     "data": {
      "application/vnd.jupyter.widget-view+json": {
       "model_id": "047e28d8f5984d86916d939551769073",
       "version_major": 2,
       "version_minor": 0
      },
      "text/plain": [
       "Text(value='', layout=Layout(width='auto'), placeholder='Enter User message')"
      ]
     },
     "metadata": {},
     "output_type": "display_data"
    }
   ],
   "source": [
    "import ipywidgets as widgets\n",
    "from IPython.display import display\n",
    "\n",
    "input_text = widgets.Text(\n",
    "    value='',\n",
    "    placeholder='Enter User message',\n",
    "    description='',\n",
    "    layout=widgets.Layout(width='auto')\n",
    ")\n",
    "\n",
    "output_text = widgets.HTML(\n",
    "    value='',\n",
    "    placeholder='Waiting For AI to respond...',\n",
    ")\n",
    "\n",
    "def handle_submit(sender):\n",
    "    user_msg = input_text.value\n",
    "    if user_msg == \"exit\":\n",
    "        memory.clear()\n",
    "        output_text.value += '<p style=\"margin: 10px; padding: 10px; border-radius: 5px; background-color: black; color: white;\"><b>User:</b> exit</p>'\n",
    "        output_text.value += '<p style=\"margin: 10px; padding: 10px; border-radius: 5px; background-color: black; color: white;\"><b>Chatbot:</b> Memory cleared. Exiting...</p>'\n",
    "    else:\n",
    "        ai_msg = conversation.predict(input=user_msg)\n",
    "        output_text.value += f'<p style=\"margin: 10px; padding: 10px; border-radius: 5px; background-color: black; color: white;\"><b>User:</b> {user_msg}</p>'\n",
    "        output_text.value += f'<p style=\"margin: 10px; padding: 10px; border-radius: 5px; background-color: black; color: white;\"><b>Chatbot:</b> {ai_msg}</p>'\n",
    "    input_text.value = ''\n",
    "\n",
    "input_text.on_submit(handle_submit)\n",
    "\n",
    "display(output_text)\n",
    "display(input_text)"
   ]
  }
 ],
 "metadata": {
  "kernelspec": {
   "display_name": "Python 3",
   "language": "python",
   "name": "python3"
  },
  "language_info": {
   "codemirror_mode": {
    "name": "ipython",
    "version": 3
   },
   "file_extension": ".py",
   "mimetype": "text/x-python",
   "name": "python",
   "nbconvert_exporter": "python",
   "pygments_lexer": "ipython3",
   "version": "3.10.11"
  }
 },
 "nbformat": 4,
 "nbformat_minor": 2
}
